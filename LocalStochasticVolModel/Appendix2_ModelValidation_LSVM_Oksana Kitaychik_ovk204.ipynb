{
 "cells": [
  {
   "cell_type": "markdown",
   "metadata": {},
   "source": [
    "## Oksana Kitaychik - Model Validation: LSVM (Code / Appendix 2)\n",
    "### Advanced Risk Management"
   ]
  },
  {
   "cell_type": "markdown",
   "metadata": {},
   "source": [
    "Let us first import necessary python libraries and introduce a few general codes/functons that I will be using for model validation below:"
   ]
  },
  {
   "cell_type": "code",
   "execution_count": 71,
   "metadata": {
    "collapsed": true
   },
   "outputs": [],
   "source": [
    "import numpy as np\n",
    "from scipy.stats import norm\n",
    "\n",
    "%matplotlib inline\n",
    "import matplotlib.pyplot as plt\n",
    "\n",
    "import math\n",
    "import numpy.random as rnd\n"
   ]
  },
  {
   "cell_type": "code",
   "execution_count": 72,
   "metadata": {
    "collapsed": true
   },
   "outputs": [],
   "source": [
    "def blackscholes_price(K, T, S, vol, r=0, q=0, callput='call'):\n",
    "    \"\"\"Compute the call/put option price in Black-Scholes model\n",
    "    \n",
    "    Parameters\n",
    "    ----------\n",
    "    K: scalar or array_like\n",
    "        The strike of the option.\n",
    "    T: scalar or array_like\n",
    "        The maturity of the option.\n",
    "    S: scalar or array_like\n",
    "        The spot price of the underlying security.\n",
    "    vol: scalar or array_like\n",
    "        The implied Black-Scholes volatility.\n",
    "    callput: str\n",
    "        Must be either 'call' or 'put'\n",
    "\n",
    "    Returns\n",
    "    -------\n",
    "    price: scalar or array_like\n",
    "        The price of the option.\n",
    "\n",
    "    Examples\n",
    "    --------\n",
    "    >>> blackscholes_price(95, 0.25, 100, 0.2, r=0.05, callput='put')\n",
    "    1.5342604771222823\n",
    "    \"\"\"\n",
    "    F = S*np.exp((r-q)*T)\n",
    "    w = vol**2*T\n",
    "    d1 = (np.log(F/K)+0.5*w)/np.sqrt(w)\n",
    "    d2 = d1 - np.sqrt(w)\n",
    "    callput = callput.lower()\n",
    "    if callput == 'call':\n",
    "        opttype = 1\n",
    "    elif callput == 'put':\n",
    "        opttype = -1\n",
    "    else:\n",
    "        raise ValueError('The value of callput must be either \"call\" or \"put\".')\n",
    "    price = (opttype*F*norm.cdf(opttype*d1)-opttype*K*norm.cdf(opttype*(d2)))*np.exp(-r*T)\n",
    "    return price"
   ]
  },
  {
   "cell_type": "code",
   "execution_count": 73,
   "metadata": {
    "collapsed": false
   },
   "outputs": [
    {
     "data": {
      "text/plain": [
       "array(0.2065480314699341)"
      ]
     },
     "execution_count": 73,
     "metadata": {},
     "output_type": "execute_result"
    }
   ],
   "source": [
    "# all inputs must be scalar\n",
    "def blackscholes_impv_scalar(K, T, S, value, r=0, q=0, callput='call', tol=1e-6, maxiter=500):\n",
    "    \"\"\"Compute implied vol in Black-Scholes model\n",
    "    \n",
    "    Parameters\n",
    "    ----------\n",
    "    K: scalar\n",
    "        The strike of the option.\n",
    "    T: scalar\n",
    "        The maturity of the option.\n",
    "    S: scalar\n",
    "        The spot price of the underlying security.\n",
    "    value: scalar\n",
    "        The value of the option\n",
    "    callput: str\n",
    "        Must be either 'call' or 'put'\n",
    "\n",
    "    Returns\n",
    "    -------\n",
    "    vol: scalar\n",
    "        The implied vol of the option.\n",
    "    \"\"\"\n",
    "    if (K <= 0) or (T <= 0):\n",
    "        return np.nan\n",
    "    F = S*np.exp((r-q)*T)\n",
    "    K = K/F\n",
    "    value = value*np.exp(r*T)/F\n",
    "    callput = callput.lower()\n",
    "    if callput not in ['call', 'put']:\n",
    "        raise ValueError('The value of \"callput\" must be either \"call\" or \"put\"')\n",
    "    opttype = 1 if callput == 'call' else -1\n",
    "    value -= max(opttype * (1 - K), 0)\n",
    "    if value < 0:\n",
    "        return np.nan\n",
    "    if (value == 0):\n",
    "        return 0\n",
    "    j = 1\n",
    "    p = np.log(K)\n",
    "    if K >= 1:\n",
    "        x0 = np.sqrt(2 * p)\n",
    "        x1 = x0 - (0.5 - K * norm.cdf(-x0) - value) * np.sqrt(2*np.pi)\n",
    "        while (abs(x0 - x1) > tol*np.sqrt(T)) and (j < maxiter):\n",
    "            x0 = x1\n",
    "            d1 = -p/x1+0.5*x1\n",
    "            x1 = x1 - (norm.cdf(d1) - K*norm.cdf(d1-x1)-value)*np.sqrt(2*np.pi)*np.exp(0.5*d1**2)\n",
    "            j += 1\n",
    "        return x1 / np.sqrt(T)\n",
    "    else:\n",
    "        x0 = np.sqrt(-2 * p)\n",
    "        x1 = x0 - (0.5*K-norm.cdf(-x0)-value)*np.sqrt(2*np.pi)/K\n",
    "        while (abs(x0-x1) > tol*np.sqrt(T)) and (j < maxiter):\n",
    "            x0 = x1\n",
    "            d1 = -p/x1+0.5*x1\n",
    "            x1 = x1-(K*norm.cdf(x1-d1)-norm.cdf(-d1)-value)*np.sqrt(2*np.pi)*np.exp(0.5*d1**2)\n",
    "            j += 1\n",
    "        return x1/np.sqrt(T)\n",
    "\n",
    "# vectorized version\n",
    "blackscholes_impv = np.vectorize(blackscholes_impv_scalar, excluded={'callput', 'tol', 'maxiter'})\n",
    "\n",
    "# Example\n",
    "blackscholes_impv(K=95, T=0.25, S=100, value=7, callput='call')"
   ]
  },
  {
   "cell_type": "code",
   "execution_count": 74,
   "metadata": {
    "collapsed": true
   },
   "outputs": [],
   "source": [
    "def piecewiselinear_fit(xdata, ydata, knots):\n",
    "    \"\"\"\n",
    "    Parameters\n",
    "    ----------\n",
    "    xdata: array_like\n",
    "        The x-coordinates of the data points.\n",
    "    ydata: array_like\n",
    "        The y-coordinates of the data points.\n",
    "    knots: array_like\n",
    "        Knots of the piecewise linear function, must be increasing.\n",
    "    \n",
    "    Returns\n",
    "    -------\n",
    "    res: ndarray\n",
    "        Coefficients of the piecewise linear function\n",
    "    \"\"\"\n",
    "    nknots = len(knots)\n",
    "    diag = np.identity(nknots)\n",
    "    A = np.vstack([np.interp(xdata, knots, diag[i]) for i in range(nknots)]).T\n",
    "    return np.linalg.lstsq(A, ydata)[0]"
   ]
  },
  {
   "cell_type": "markdown",
   "metadata": {},
   "source": [
    "<h3 style=\"color:deepskyblue\">The model and parameter description of LSVM: Particle Method and Smile Calibration</h3>\n",
    "\n",
    "<b style=\"color:darkorange\"></b> Let us consider the local stochastic volatility model (LSVM):\n",
    "\n",
    "$$\n",
    "\\begin{array}{l}\n",
    "dS_t = a_t l(t, S_t) S_t dW^{(1)}_t\\\\\n",
    "d a_t = a_t \\gamma dW^{(2)}_t\\\\\n",
    "d \\langle W^{(1)}, W^{(2)} \\rangle_t = \\rho dt.\n",
    "\\end{array}\n",
    "$$\n",
    "\n",
    "The numerical values for the model parameters are assumed to be:\n",
    "- $T = 1$.\n",
    "- $\\gamma = 50\\%$.\n",
    "- $a_0 = 30\\%$.\n",
    "- $S_0 = 100$.\n",
    "- $\\rho = -50\\%$.\n",
    "\n",
    "My initial goal is to calibrate a local volatility (leverage) function $l(t, x)$ so that this model matches the market prices of vanilla options. For the sake of simplicity, I assume that all the vanilla option prices in the market are such that they match those of a Black-Scholes model, ie. the market implied volatility surface is flat $\\sigma_{\\textrm{Market}} \\equiv 30\\%$. In that case, I also have $\\sigma_{\\textrm{Dup}}(t,x) \\equiv 30\\%$."
   ]
  },
  {
   "cell_type": "markdown",
   "metadata": {
    "collapsed": true
   },
   "source": [
    "My code consists of the following two sections:\n",
    "\n",
    "<b>(a).</b> (Implementation)\n",
    "- In this section, I will implement the particle method to set the leverage function $l$. For this purpose, I will use the non-parametric regression. I will also test the model sensitivity to a few kernels such as Gaussian and quartic kernels.\n",
    "\n",
    "For quartic kernel, for example, we have:\n",
    "$$K(x)=(x+1)^2(1-x)^2\\quad\\text{for }-1\\leq x\\leq 1\\quad\\text{and}\\quad0\\quad\\text{ elsewhere}$$\n",
    "\n",
    "together with the bandwidth \n",
    "\n",
    "$$h = \\kappa \\sigma_{\\mathrm{Market}} S_0 \\sqrt{\\max(t_k,0.25)}N^{-0.2}$$\n",
    "\n",
    "at discretization date $t_k$. Below I test the sensitivity of the model to the dimensionless bandwidth parameter $\\kappa$. (Generally, its order of magnitude is expected to be around 1.0.) I will use $\\Delta t = 1/100$, $N_1=7,000$ paths for the calibration of the leverage function, and $N_2=100,000$ paths for the actual option pricing. \n",
    "\n",
    "Each estimation of a conditional expectation $\\mathbb{E}[a_{t_k}^2|S_{t_k}=x]$ (for $x$ in a grid of spot values) will involve the ratio of two sums of $N_1$ terms each.\n",
    "\n",
    "- Below, I will check that the resulting model is indeed calibrated to the market implied volatilities $\\sigma_{\\textrm{Market}} \\equiv 30\\%$. To this end, I will compute estimates of the call prices (maturity $T=1$) in the calibrated model for strikes $60, 70, 80, 90, 100, 110, 120, 130, 140, 150$, and invert the Black-Scholes formula to get the corresponding estimation of the implied volatilities $\\hat\\sigma(T,K)$. To estimate the call prices in the calibrated model, I will use the calibrated leverage function $l$ and (as mentioned above) $N_2 = 100,000$ paths. \n",
    "\n",
    "<b>(b).</b> (Sensitivity Testing, Comparison to Benchmarks and Interpretation)\n",
    "- I will set $\\rho = 0\\%$, plot the calibrated leverage function $l(t, S)$ as a function of the spot value for a fixed maturity, e.g., $t = T$. For comparison / benchmarking, I will then plot the corresponding smile for the pure stochastic volatility model ($l \\equiv 1$). I will try various values of the volatility of volatility $\\gamma$; and will comment on the dependence of the shape of the leverage function on $\\gamma$. I will try the following values for $\\gamma$: $0\\%$, $25\\%$, $50\\%$, $75\\%$.\n",
    "- For $\\gamma = 50\\%$, I will study the joint dependence of the slope of the leverage function and of the smile of the pure stochastic volatility model on the correlation parameter $\\rho$.\n",
    "\n",
    "- As an example of a practical implementation of the LSVM, I will consider the forward-starting call spread with payoff\n",
    "\\begin{equation*}\n",
    "\\left( \\frac{S_{T_2}}{S_{T_1}}-K_1 \\right)_+ -\n",
    "\\left( \\frac{S_{T_2}}{S_{T_1}}-K_2 \\right)_+\n",
    "\\end{equation*}\n",
    "with $T_1 = T - \\frac{1}{12}$, $T_2 = T$, $K_1 = 95\\%$, $K_2 = 105\\%$. In this case, $\\gamma = 50\\%$ and $\\rho = -50\\%$. I will compare the prices of this option obtained using the calibrated LVSM with (1) price from the Black-Scholes model  with volatility 30% (the key benchmark model), and (2) price from a pure SVM (leverage set to 1).\n",
    "I will then interpret/ comment on the results."
   ]
  },
  {
   "cell_type": "markdown",
   "metadata": {},
   "source": [
    "# Section a [implementation] "
   ]
  },
  {
   "cell_type": "code",
   "execution_count": 75,
   "metadata": {
    "collapsed": false
   },
   "outputs": [],
   "source": [
    "# Section a:\n",
    "\n",
    "# Kernel functions set-up:\n",
    "\n",
    "def gauss_kern(x):\n",
    "    \"\"\"Gaussian kernel function\"\"\"\n",
    "    m=1/np.sqrt(2*math.pi)\n",
    "    return m*np.exp(-x**2/2)\n",
    "\n",
    "def quar_kern(Z):\n",
    "    \"Quartic kernel function\"\n",
    "    \n",
    "    K=(Z+1)*(Z+1)*(1-Z)*(1-Z)\n",
    "    \n",
    "    K[Z>1.0]=0.0\n",
    "    K[Z<-1.0]=0.0\n",
    "    \n",
    "    return K\n",
    "    \n",
    "def reg_nonparam(x, xdata, ydata, bandwidth, kern):\n",
    "    \"\"\"Values of the non-parametric regression of Y wrt X\n",
    "\n",
    "    Parameters\n",
    "    ----------\n",
    "    x: array_like, one-dimensional\n",
    "        The x-coordinates of points at which the regression is evaluated\n",
    "    xdata: array_like\n",
    "        The x-coordinates of the data points.\n",
    "    ydata: array_like\n",
    "        The y-coordinates of the data points. \n",
    "    bandwidth: positive scalar\n",
    "        Bandwidth of the kernel\n",
    "    kern: callable\n",
    "    \"\"\"\n",
    "    weights = kern((xdata[:, np.newaxis]-x)/bandwidth)\n",
    "\n",
    "    return np.sum(weights * ydata[:, np.newaxis], axis=0) / np.sum(weights, axis=0)\n",
    "                                                            \n"
   ]
  },
  {
   "cell_type": "code",
   "execution_count": 76,
   "metadata": {
    "collapsed": false
   },
   "outputs": [],
   "source": [
    "# key input parameters:\n",
    "\n",
    "T=1.0\n",
    "VoV=0.5\n",
    "a0=0.3\n",
    "S0=100.0\n",
    "corr=-0.5\n",
    "\n",
    "sigmaDup=0.3\n",
    "sigmaMkt=0.3\n",
    "\n",
    "dt=0.01\n",
    "timesteps=100\n",
    "\n",
    "N1=10000\n",
    "N2=100000\n",
    "\n",
    "\n",
    "#kernel parameters\n",
    "\n",
    "ku=1.5  #chosen based on calibrating the leverage function to market vol of 30% / based on fine-tuning\n",
    "# also tried: ku=0.8; 0.9; 1.0; 1.1; 1.2; 1.3; 1.4.\n",
    "#ku is expected to be of magnitude of approx. 1.0 - 1.5; see Guyon and Henry-Labordere (2014), p.281. The authors also chose 1.5 in their examples.\n",
    "\n",
    "n_mult=N1**(-0.2)\n",
    "\n",
    "\n",
    "#fixed stock price grid (as simplification)\n",
    "\n",
    "#Sgrid is used for faster approx and set at precise =0.\n",
    "# precise=1 version is USING ALL REALIZED SIMULATED PRICE VALUES AS \"GRID\" \n",
    "\n",
    "sgrid=np.asarray(np.linspace(0.0, 1000.0, int(np.round(2000.0))+1))\n",
    "\n",
    "from scipy import interpolate\n",
    "\n",
    "# maximum evaluator function\n",
    "\n",
    "def max_ev(x1,x2):\n",
    "    if x1>=x2:\n",
    "        maxi=x1\n",
    "    if x2>x1:\n",
    "        maxi=x2\n",
    "    return maxi\n",
    "\n",
    "# useful auxiliary functions to lookup values/indices of an array [used for testing etc]\n",
    "\n",
    "def find_nearest(array,value):\n",
    "    idx = (np.abs(array-value)).argmin()\n",
    "    if array[idx]>=value: \n",
    "        temp=array[idx]\n",
    "    else:\n",
    "        temp=array[idx+1]\n",
    "    return temp\n",
    "\n",
    "def idx(array, value):\n",
    "    idx=(np.abs(array-value)).argmin()\n",
    "    if array[idx]>=value: \n",
    "        temp0=idx\n",
    "    else:\n",
    "        temp0=idx+1\n",
    "    return temp0\n"
   ]
  },
  {
   "cell_type": "code",
   "execution_count": 80,
   "metadata": {
    "collapsed": false
   },
   "outputs": [],
   "source": [
    "# particle algorithm - goal: calibrate leverage function lev \n",
    "\n",
    "#step 1 - first time increment / initialization\n",
    "\n",
    "#step 2: using an Euler scheme  [chose log-euler for the final implementation]\n",
    "# for each time step, generate correlated geometric processes (given LSVM specification)\n",
    "# for each timestep and sim. stock price, generate leverage function using kernel function (Nadaraya-Watson reg.)\n",
    "\n",
    "\n",
    "def lev_function(corr, VoV, S0, a0, T, sigmaDup, N1, timesteps, kern, precise=1):\n",
    "\n",
    "    k=1\n",
    "    t=0\n",
    "    \n",
    "    if (precise==1):\n",
    "        if N1>=7000:\n",
    "            N1=7000\n",
    "        # this kicks in only when precise=1 [no interpolation of kernel is chosen] to limit computational time\n",
    "        # this reset limits the number of paths / allows smooth/fast running in case of a slower computational environment/machine\n",
    "        \n",
    "    lev0=sigmaDup/a0\n",
    "\n",
    "    sPrev=np.full(N1, S0, dtype=np.float)\n",
    "    aPrev=np.full(N1, a0, dtype=np.float)\n",
    "\n",
    "    lev=np.full(N1, lev0, dtype=np.float)\n",
    "\n",
    "\n",
    "    dt=T/timesteps\n",
    "\n",
    "    #set up lists/arrays to keep track of results / leverage values as function of (S (or strike K), t)\n",
    "\n",
    "    leverage0=[]\n",
    "    leverage0.append(lev)\n",
    "\n",
    "    sprices0=[]\n",
    "    sprices0.append(sPrev)\n",
    "\n",
    "    times0=[]\n",
    "    times0.append(t)\n",
    "\n",
    "    while k<=timesteps:\n",
    "    \n",
    "        eS = rnd.normal(0.0,1.0,size=N1)\n",
    "        eA = rnd.normal(0.0,1.0,size=N1)\n",
    "    \n",
    "        # generates N1 samples of stock values and vol process values:\n",
    "        # uses prior leverage function values\n",
    "    \n",
    "        #regular Euler scheme:\n",
    "        #simA=aPrev + np.sqrt(dt)*aPrev*VoV*eA \n",
    "        #simS=sPrev + np.sqrt(dt)*sPrev*lev*aPrev*(corr*eA + np.sqrt(1-corr*corr)*eS)\n",
    "        \n",
    "        #log-Euler scheme [final selection as results in better precision (and has better theoretical qualities)]\n",
    "        simA=aPrev*np.exp(-0.5*VoV*VoV*dt + np.sqrt(dt)*VoV*eA)\n",
    "        simS=sPrev*np.exp(-0.5*aPrev*aPrev*lev*lev*dt + np.sqrt(dt)*lev*aPrev*(corr*eA + np.sqrt(1-corr*corr)*eS))\n",
    "        \n",
    "        sprices0.append(simS)\n",
    "\n",
    "        sPrev=simS\n",
    "        aPrev=simA\n",
    "    \n",
    "        t=t+dt\n",
    "        times0.append(t)\n",
    "        \n",
    "        #compute leverage function using kernel regression\n",
    "        #bandwidth for kernel\n",
    "        bandwidth=ku*S0*sigmaMkt*n_mult*np.sqrt(np.maximum(t,0.25))\n",
    "    \n",
    "        simAsq=simA*simA\n",
    "        \n",
    "        #linear interp./ rough approx to make this faster: if precise=0    \n",
    "    \n",
    "        if (precise==0):\n",
    "            intY=np.interp(sgrid, simS, simAsq)\n",
    "            reg0=reg_nonparam(sgrid, sgrid, intY, bandwidth, kern)\n",
    "            reg=np.interp(simS,sgrid,reg0)\n",
    "        \n",
    "        #precise=1 - produces sizably more precise estimates but more time-consuming:\n",
    "        \n",
    "        if (precise==1):\n",
    "            reg=reg_nonparam(simS, simS, simAsq, bandwidth, kern)\n",
    "        \n",
    "        lev=sigmaDup*np.sqrt(1/reg)\n",
    "        \n",
    "        leverage0.append(lev)\n",
    "    \n",
    "        k=k+1\n",
    "\n",
    "    # this will give sims (final stock price) at maturity T=k_max, and corresp. leverage function values at T\n",
    "    finalS=simS\n",
    "    finalLev=lev  \n",
    "    \n",
    "    return finalS, finalLev, leverage0, times0, sprices0\n"
   ]
  },
  {
   "cell_type": "code",
   "execution_count": 81,
   "metadata": {
    "collapsed": false
   },
   "outputs": [],
   "source": [
    "# Calibrate leverage function:\n",
    "\n",
    "# precise=1 means no interpolation / all spot values used to estimate kernel:\n",
    "# i.e., if you want to run 'precise' kernel (with no interpolation between stock prices in the grid), set precise=1\n",
    "\n",
    "# precise=0 uses interpolation/ spot price grid to estimate kernel [input at least 10,000 as N1 in that case]\n",
    "\n",
    "N1=10000\n",
    "\n",
    "timesteps=100\n",
    "\n",
    "finalS, finalLev, leverage, times, sprices = lev_function(corr, VoV, S0, a0, T, sigmaDup, N1, timesteps, quar_kern, 1)\n",
    "\n",
    "#finalS, finalLev, leverage, times, sprices = lev_function(corr, VoV, S0, a0, T, sigmaDup, N1, timesteps, gauss_kern, 1)\n",
    "\n",
    "#gaus_kern was used as a sensitivity check; produced relatively similar results\n"
   ]
  },
  {
   "cell_type": "code",
   "execution_count": 82,
   "metadata": {
    "collapsed": false
   },
   "outputs": [],
   "source": [
    "# confirming that the calibrated model works -\n",
    "# confirming that BS imp vol using call options generated by the calibrated model above match sigmaMkt\n",
    "\n",
    "# call option function using calibrated LVM\n",
    "# assumes European payoff \n",
    "\n",
    "def call_LVM(strike, S0, a0, VoV, T, leverage, sprices, N2, timesteps):\n",
    "    \n",
    "    sPrev=np.full(N2, S0, dtype=np.float)\n",
    "    aPrev=np.full(N2, a0, dtype=np.float)\n",
    "\n",
    "    k=1\n",
    "\n",
    "    dt=T/timesteps\n",
    "    \n",
    "    while k<=timesteps:\n",
    "        \n",
    "        eS = rnd.normal(0.0,1.0,size=N2)\n",
    "        eA = rnd.normal(0.0,1.0,size=N2)\n",
    "    \n",
    "        # generates N2 samples of stock values and vol process values:\n",
    "        # uses prior leverage function values (generated by leverage function) - lookup by stock price \n",
    "        # uses linear interp. to speed this up \n",
    "        \n",
    "        lev=np.interp(sPrev,sprices[k-1],leverage[k-1])\n",
    "        \n",
    "        #log-Euler:\n",
    "        simA=aPrev*np.exp(-0.5*VoV*VoV*dt + np.sqrt(dt)*VoV*eA)\n",
    "        simS=sPrev*np.exp(-0.5*aPrev*aPrev*lev*lev*dt + np.sqrt(dt)*lev*aPrev*(corr*eA + np.sqrt(1-corr*corr)*eS))\n",
    "        \n",
    "        sPrev=simS\n",
    "        aPrev=simA\n",
    "        \n",
    "        k=k+1\n",
    "        \n",
    "    simST=simS\n",
    "   \n",
    "    call_i=np.maximum(simST-strike, 0)\n",
    "    \n",
    "    return np.mean(call_i)\n"
   ]
  },
  {
   "cell_type": "code",
   "execution_count": 83,
   "metadata": {
    "collapsed": false
   },
   "outputs": [
    {
     "name": "stdout",
     "output_type": "stream",
     "text": [
      "Strike: 60\n",
      "\n",
      "Call Price (LVM): 40.69\n",
      "Imp. vol. is 0.332783\n",
      "\n",
      "Strike: 70\n",
      "\n",
      "Call Price (LVM): 31.48\n",
      "Imp. vol. is 0.303302\n",
      "\n",
      "Strike: 80\n",
      "\n",
      "Call Price (LVM): 23.46\n",
      "Imp. vol. is 0.297052\n",
      "\n",
      "Strike: 90\n",
      "\n",
      "Call Price (LVM): 16.73\n",
      "Imp. vol. is 0.291855\n",
      "\n",
      "Strike: 100\n",
      "\n",
      "Call Price (LVM): 11.42\n",
      "Imp. vol. is 0.287158\n",
      "\n",
      "Strike: 110\n",
      "\n",
      "Call Price (LVM): 7.57\n",
      "Imp. vol. is 0.285364\n",
      "\n",
      "Strike: 120\n",
      "\n",
      "Call Price (LVM): 4.60\n",
      "Imp. vol. is 0.276248\n",
      "\n",
      "Strike: 130\n",
      "\n",
      "Call Price (LVM): 2.80\n",
      "Imp. vol. is 0.273969\n",
      "\n",
      "Strike: 140\n",
      "\n",
      "Call Price (LVM): 1.67\n",
      "Imp. vol. is 0.272196\n",
      "\n",
      "Strike: 150\n",
      "\n",
      "Call Price (LVM): 0.98\n",
      "Imp. vol. is 0.271151\n",
      "\n"
     ]
    }
   ],
   "source": [
    "# comparing impl BS vol (calibrated using the LVM/leverage function from above) to mkt\n",
    "\n",
    "N2=100000\n",
    "T=1.0\n",
    "\n",
    "K=60.0\n",
    "\n",
    "while K<=150.0:\n",
    "    \n",
    "    #generate LVM call prices:\n",
    "    \n",
    "    callLVM = call_LVM(K, S0, a0, VoV, T, leverage, sprices, N2, timesteps)\n",
    "    \n",
    "    impV= blackscholes_impv_scalar(K, T, S0, callLVM, r=0, q=0, callput='call', tol=1e-6, maxiter=500)\n",
    "\n",
    "    print \"Strike: %d\" % K\n",
    "    print\n",
    "    print \"Call Price (LVM): %.2f\" % round(callLVM,2)\n",
    "    \n",
    "    print \"Imp. vol. is %f\" % impV\n",
    "    print\n",
    "    \n",
    "    K=K+10.0\n"
   ]
  },
  {
   "cell_type": "markdown",
   "metadata": {},
   "source": [
    "** Observations / Conclusions:**\n",
    "\n",
    "The calibrated LSVM is indeed matching the market volatilities reasonably well - note that all 'recovered' implied volatilities above are indeed roughly around 30% (i.e., matching the flat market volatility surface, indicating a reasonably successful leverage function calibration to the market data). \n",
    "\n",
    "[Although, not surprisingly (and given limited computational power/some simplifying interpolation assumptions we had to make - such as kernel estimation or interpolation when precise is set to 0 in lev_function), there are some (relatively small) deviations from the market vol of 30% for the extreme in- or out-of the money options, as indicated above.]\n",
    "\n",
    "Note: I used this calibration to the market data to fine-tune the values of kappa ('ku') from above (the input to the kernel bandwidth formula); my estimate is that kappa is roughly 1.5.\n"
   ]
  },
  {
   "cell_type": "markdown",
   "metadata": {
    "collapsed": false
   },
   "source": [
    "# Section b [Interpretation] # "
   ]
  },
  {
   "cell_type": "markdown",
   "metadata": {},
   "source": [
    "## Bullet #1 ##"
   ]
  },
  {
   "cell_type": "code",
   "execution_count": 84,
   "metadata": {
    "collapsed": false
   },
   "outputs": [],
   "source": [
    "# Bullet #1: set corr to zero\n",
    "\n",
    "corr=0.0\n",
    "\n",
    "# Part 1: plot leverage function as a function of the S at t=T at corr=0\n",
    "\n",
    "N1=10000\n",
    "\n",
    "finalS0, finalLev0, _, _, _ = lev_function(corr, VoV, S0, a0, T, sigmaDup, N1, timesteps, quar_kern, 1)\n"
   ]
  },
  {
   "cell_type": "code",
   "execution_count": 85,
   "metadata": {
    "collapsed": false
   },
   "outputs": [
    {
     "name": "stdout",
     "output_type": "stream",
     "text": [
      "Leverage Distribution Values and Interpolated Leverage Function\n"
     ]
    },
    {
     "data": {
      "text/plain": [
       "<matplotlib.text.Text at 0x12ad23e90>"
      ]
     },
     "execution_count": 85,
     "metadata": {},
     "output_type": "execute_result"
    },
    {
     "data": {
      "image/png": "[encoded data removed]",
      "text/plain": [
       "<matplotlib.figure.Figure at 0x10ef3a350>"
      ]
     },
     "metadata": {},
     "output_type": "display_data"
    }
   ],
   "source": [
    "x = np.linspace(0, 200, 101)      \n",
    "\n",
    "f = interpolate.interp1d(finalS0, finalLev0, kind='cubic', bounds_error=False)\n",
    "\n",
    "print \"Leverage Distribution Values and Interpolated Leverage Function\"\n",
    "#plt.figure(0)\n",
    "plt.plot(x, f(x))\n",
    "#plt.xlabel('Spot Price at Maturity (t=T)')\n",
    "#plt.ylabel('Interpolated (Smoothed) Leverage Function, corr=0')\n",
    "\n",
    "\n",
    "plt.plot(finalS0, finalLev0, 'o')\n",
    "plt.xlabel('Spot Price at Maturity (t=T)')\n",
    "plt.ylabel('Leverage Distribution, corr=0')"
   ]
  },
  {
   "cell_type": "markdown",
   "metadata": {},
   "source": [
    "** Note: **\n",
    "    \n",
    "    Leverage function at corr=0 has the expected 'hump' shape reaching its maximum at/around S0=100.\n",
    "    "
   ]
  },
  {
   "cell_type": "code",
   "execution_count": 86,
   "metadata": {
    "collapsed": false
   },
   "outputs": [],
   "source": [
    "# Bullet 1 continued\n",
    "\n",
    "#Part 2: Plot vol smile from pure SVM (leverage=1):\n",
    "\n",
    "# let's get volatility smile for a range of call strikes:\n",
    "\n",
    "def call_pure_SVM(strike, S0, a0, VoV, corr, T, N2, timesteps):\n",
    "    \n",
    "    sPrev=np.full(N2, S0, dtype=np.float)\n",
    "    aPrev=np.full(N2, a0, dtype=np.float)\n",
    "\n",
    "    k=1\n",
    "\n",
    "    dt=T/timesteps\n",
    "    \n",
    "    while k<=timesteps:\n",
    "        \n",
    "        eS = rnd.normal(0.0,1.0,size=N2)\n",
    "        eA = rnd.normal(0.0,1.0,size=N2)\n",
    "    \n",
    "        # generates N2 samples of stock values and vol process values:\n",
    "\n",
    "        #log-Euler:\n",
    "        simA=aPrev*np.exp(-0.5*VoV*VoV*dt + np.sqrt(dt)*VoV*eA)\n",
    "        simS=sPrev*np.exp(-0.5*aPrev*aPrev*dt + np.sqrt(dt)*aPrev*(corr*eA + np.sqrt(1-corr*corr)*eS))\n",
    "        \n",
    "        sPrev=simS\n",
    "        aPrev=simA\n",
    "        \n",
    "        k=k+1\n",
    "        \n",
    "    simST=simS\n",
    "   \n",
    "    call_i=np.maximum(simST-strike, 0)\n",
    "    \n",
    "    return np.mean(call_i)\n",
    "\n",
    "\n",
    "def vol_smile(K_start, K_end, K_increment, corr, VoV, N2):\n",
    "    strikes_=[]\n",
    "    volsSVM_=[]\n",
    "    K0=K_start\n",
    "    while K0<=K_end:\n",
    "        #generate pure SVM call prices:\n",
    "        strikes_.append(K0)\n",
    "        call_SVM = call_pure_SVM(K0, S0, a0, VoV, corr, T, N2, timesteps)\n",
    "    \n",
    "        impV= blackscholes_impv_scalar(K0, T, S0, call_SVM, r=0, q=0, callput='call', tol=1e-6, maxiter=500)\n",
    "        volsSVM_.append(impV)\n",
    "    \n",
    "        K0=K0+K_increment\n",
    "        \n",
    "    return strikes_, volsSVM_\n"
   ]
  },
  {
   "cell_type": "code",
   "execution_count": 87,
   "metadata": {
    "collapsed": false
   },
   "outputs": [],
   "source": [
    "N2=10000\n",
    "corr0=0.0\n",
    "\n",
    "K_start=10.0\n",
    "K_end=200.0\n",
    "K_increment=10.0\n",
    "\n",
    "x_val, vol_smile=vol_smile(K_start, K_end, K_increment, corr0, VoV, N2)\n"
   ]
  },
  {
   "cell_type": "code",
   "execution_count": 88,
   "metadata": {
    "collapsed": false
   },
   "outputs": [
    {
     "name": "stdout",
     "output_type": "stream",
     "text": [
      "Pure SVM (leverage =1): Vol Smile at corr=0\n"
     ]
    },
    {
     "data": {
      "text/plain": [
       "<matplotlib.text.Text at 0x12ad1ae10>"
      ]
     },
     "execution_count": 88,
     "metadata": {},
     "output_type": "execute_result"
    },
    {
     "data": {
      "image/png": "[encoded data removed]",
      "text/plain": [
       "<matplotlib.figure.Figure at 0x12ad23c50>"
      ]
     },
     "metadata": {},
     "output_type": "display_data"
    }
   ],
   "source": [
    "print \"Pure SVM (leverage =1): Vol Smile at corr=0\"\n",
    "\n",
    "plt.plot(x_val, vol_smile)\n",
    "plt.xlabel('Strike')\n",
    "plt.ylabel('Imp. Vol (Pure SVM)')\n",
    "\n",
    "# Note: we see some pronounced vol smile - as expected (no market calibration / leverage=1)"
   ]
  },
  {
   "cell_type": "markdown",
   "metadata": {},
   "source": [
    "** Note: **\n",
    "    \n",
    "  The implied vol from pure SVM (leverage set to 1) model exhibits a typical volatility smile as expected. Indeed, we see a prominent vol smile as in such pure SVM model, there is no calibration to market data/no actual market 'smile'/vol dependence on spot and time that we can achieve via the leverage function in the more complex calibrated LSVM model."
   ]
  },
  {
   "cell_type": "code",
   "execution_count": 89,
   "metadata": {
    "collapsed": false
   },
   "outputs": [
    {
     "data": {
      "text/plain": [
       "<matplotlib.figure.Figure at 0x108571810>"
      ]
     },
     "metadata": {},
     "output_type": "display_data"
    },
    {
     "data": {
      "image/png": "[encoded data removed]",
      "text/plain": [
       "<matplotlib.figure.Figure at 0x108536650>"
      ]
     },
     "metadata": {},
     "output_type": "display_data"
    },
    {
     "data": {
      "image/png": "[encoded data removed]",
      "text/plain": [
       "<matplotlib.figure.Figure at 0x10854eb90>"
      ]
     },
     "metadata": {},
     "output_type": "display_data"
    },
    {
     "data": {
      "image/png": "[encoded data removed]",
      "text/plain": [
       "<matplotlib.figure.Figure at 0x12cbb2690>"
      ]
     },
     "metadata": {},
     "output_type": "display_data"
    },
    {
     "data": {
      "image/png": "[encoded data removed]",
      "text/plain": [
       "<matplotlib.figure.Figure at 0x12c97d150>"
      ]
     },
     "metadata": {},
     "output_type": "display_data"
    }
   ],
   "source": [
    "# Bullet 1 continued\n",
    "\n",
    "# part 3: sensitivity of leverage function (calibrated LVM) to VoV parameter \n",
    "# assumed corr=0\n",
    "\n",
    "corr0=0.0\n",
    "\n",
    "N1=2000\n",
    "\n",
    "VoVs=0.0\n",
    "fig=0\n",
    "\n",
    "while VoVs<=0.75:\n",
    "    \n",
    "    finalSV, finalLevV, _, _, _ = lev_function(corr0, VoVs, S0, a0, T, sigmaDup, N1, timesteps, quar_kern, 1)\n",
    " \n",
    "    plt.figure(fig)\n",
    "    plt.figure(figsize=(3,2))\n",
    "    plt.plot(finalSV, finalLevV)\n",
    "    plt.xlabel('Spot Price at Maturity (t=T)')\n",
    "    plt.ylabel('Leverage Distrib. at VoV of %r' % VoVs)\n",
    "    fig=fig+1\n",
    "    VoVs=VoVs+0.25\n",
    "\n",
    "\n",
    "# NOTE: to avoid dependence on the interp. assump:\n",
    "# >> actual leverage distributions (rather than smoothed/interpolated leverage functions) are shown below"
   ]
  },
  {
   "cell_type": "markdown",
   "metadata": {},
   "source": [
    "**Note:**\n",
    "\n",
    "The shapes of the leverage distributions/functions shown above are as expected:\n",
    "\n",
    "When VoV=0 (i.e., constant vol), the leverage function is constant at 1.0 (see above).\n",
    "\n",
    "At relatively low VoV values, leverage function is relatively flat (as expected as well), and as VoV increases, leverage function/distribution's slope increases.\n"
   ]
  },
  {
   "cell_type": "code",
   "execution_count": 90,
   "metadata": {
    "collapsed": false
   },
   "outputs": [
    {
     "name": "stdout",
     "output_type": "stream",
     "text": [
      "Vol Smile with Pure SVM (leverage =1) at diff VoV values:\n"
     ]
    },
    {
     "data": {
      "text/plain": [
       "<matplotlib.legend.Legend at 0x10ce4a690>"
      ]
     },
     "execution_count": 90,
     "metadata": {},
     "output_type": "execute_result"
    },
    {
     "data": {
      "image/png": "[encoded data removed]",
      "text/plain": [
       "<matplotlib.figure.Figure at 0x12cdde610>"
      ]
     },
     "metadata": {},
     "output_type": "display_data"
    }
   ],
   "source": [
    "# Bullet 1 continued\n",
    "\n",
    "# part 3: sensitivity of vol smile (pure SVM, leverage of 1) to VoV parameter \n",
    "# assumed corr=0\n",
    "\n",
    "corr0=0.0\n",
    "\n",
    "N1=10000\n",
    "\n",
    "K_start1=60.0\n",
    "K_end1=180.0\n",
    "K_increment1=10.0\n",
    "\n",
    "VoVsk=0.0\n",
    "\n",
    "def vol_smile2(K_start, K_end, K_increment, corr, VoV, N2):\n",
    "    strikes_=[]\n",
    "    volsSVM_=[]\n",
    "    K0=K_start\n",
    "    while K0<=K_end:\n",
    "        #generate pure SVM call prices:\n",
    "        strikes_.append(K0)\n",
    "        call_SVM = call_pure_SVM(K0, S0, a0, VoV, corr, T, N2, timesteps)\n",
    "    \n",
    "        impV= blackscholes_impv_scalar(K0, T, S0, call_SVM, r=0, q=0, callput='call', tol=1e-6, maxiter=500)\n",
    "        volsSVM_.append(impV)\n",
    "    \n",
    "        K0=K0+K_increment\n",
    "        \n",
    "    return strikes_, volsSVM_\n",
    "\n",
    "print \"Vol Smile with Pure SVM (leverage =1) at diff VoV values:\"\n",
    "while VoVsk<=0.75:\n",
    "    \n",
    "    x_valVs, vol_smileVs = vol_smile2(K_start1, K_end1, K_increment1, corr0, VoVsk, N1)\n",
    " \n",
    "    #plt.figure(fig)\n",
    "    #plt.figure(figsize=(8,10))\n",
    "    plt.plot(x_valVs, vol_smileVs, label='VoV = %r' % VoVsk)\n",
    "    #plt.xlabel('Stock Price / Strike')\n",
    "    #plt.ylabel('Imp. Vol. at VoV of %r' % VoVs)\n",
    "    #fig=fig+1\n",
    "    VoVsk=VoVsk+0.25\n",
    "    \n",
    "plt.xlabel('Strike')\n",
    "plt.ylabel('Imp. Vol. - Pure SVM')\n",
    "plt.legend(loc='best')\n",
    "\n"
   ]
  },
  {
   "cell_type": "markdown",
   "metadata": {},
   "source": [
    "**NOTE:**\n",
    "\n",
    "As expected, with pure SVM, we observe vol smiles above (i.e., the imp. vol varies with stock price/strike values in the absence of the calibration to the market as we had done earlier with the leverage function).\n",
    "\n",
    "Also, not surprisingly, with increase in VoV, the vol smile generally becomes even more clear [compare the vol smile at VoV=0 to the one at VoV=0.75].\n"
   ]
  },
  {
   "cell_type": "markdown",
   "metadata": {},
   "source": [
    "## Bullet #2 ##"
   ]
  },
  {
   "cell_type": "code",
   "execution_count": 91,
   "metadata": {
    "collapsed": false
   },
   "outputs": [
    {
     "data": {
      "text/plain": [
       "<matplotlib.figure.Figure at 0x12c98f550>"
      ]
     },
     "metadata": {},
     "output_type": "display_data"
    },
    {
     "data": {
      "image/png": "[encoded data removed]",
      "text/plain": [
       "<matplotlib.figure.Figure at 0x10a227450>"
      ]
     },
     "metadata": {},
     "output_type": "display_data"
    },
    {
     "data": {
      "image/png": "[encoded data removed]",
      "text/plain": [
       "<matplotlib.figure.Figure at 0x10a358d50>"
      ]
     },
     "metadata": {},
     "output_type": "display_data"
    },
    {
     "data": {
      "image/png": "[encoded data removed]",
      "text/plain": [
       "<matplotlib.figure.Figure at 0x12ccbb750>"
      ]
     },
     "metadata": {},
     "output_type": "display_data"
    },
    {
     "data": {
      "image/png": "[encoded data removed]",
      "text/plain": [
       "<matplotlib.figure.Figure at 0x10cf69490>"
      ]
     },
     "metadata": {},
     "output_type": "display_data"
    },
    {
     "data": {
      "image/png": "[encoded data removed]",
      "text/plain": [
       "<matplotlib.figure.Figure at 0x12af30fd0>"
      ]
     },
     "metadata": {},
     "output_type": "display_data"
    },
    {
     "data": {
      "image/png": "[encoded data removed]",
      "text/plain": [
       "<matplotlib.figure.Figure at 0x10cfe2350>"
      ]
     },
     "metadata": {},
     "output_type": "display_data"
    },
    {
     "data": {
      "image/png": "[encoded data removed]",
      "text/plain": [
       "<matplotlib.figure.Figure at 0x10d060f90>"
      ]
     },
     "metadata": {},
     "output_type": "display_data"
    },
    {
     "data": {
      "image/png": "[encoded data removed]",
      "text/plain": [
       "<matplotlib.figure.Figure at 0x107e254d0>"
      ]
     },
     "metadata": {},
     "output_type": "display_data"
    },
    {
     "data": {
      "image/png": "[encoded data removed]",
      "text/plain": [
       "<matplotlib.figure.Figure at 0x107f01cd0>"
      ]
     },
     "metadata": {},
     "output_type": "display_data"
    }
   ],
   "source": [
    "# BULLET #2 - sensitivity to correlation\n",
    "\n",
    "# Calibrated leverage in LSVM:\n",
    "\n",
    "VoV=0.5\n",
    "\n",
    "N1=3000\n",
    "\n",
    "corrS=-1.0\n",
    "fig=0\n",
    "\n",
    "# similar to Bullet 1 above, let's focus on lev distrib/functions at t=T (for simplicity sake):\n",
    "\n",
    "while corrS<=1.0:\n",
    "    finalSC, finalLevC, _, _, _ = lev_function(corrS, VoV, S0, a0, T, sigmaDup, N1, timesteps, quar_kern, 1)\n",
    "    plt.figure(fig)\n",
    "    plt.figure(figsize=(3,2))\n",
    "    plt.plot(finalSC, finalLevC)\n",
    "    plt.xlabel('Spot Price at Maturity (t=T)')\n",
    "    plt.ylabel('Leverage Distrib. at corr of %r' % corrS)\n",
    "    fig=fig+1\n",
    "    corrS=corrS+0.25\n",
    "\n"
   ]
  },
  {
   "cell_type": "markdown",
   "metadata": {},
   "source": [
    "**Note:**\n",
    "\n",
    "The shapes of the leverage distributions/functions shown above are as expected:\n",
    "\n",
    "With perfect negative correlation, we see that the leverage function is linearly increasing in spot / stock prices:  as spot prices/strikes increase, we see rapidly increasing leverage function values - i.e., the leverage function needs to 'compensate' for the fact that spot price and volatilty processes are negatively correlated, i.e., the leverage 'calibration' function helps to 'pull' the modeled stock price process back to the observed market data.\n",
    "\n",
    "Similarly, with perfect positive correlation, we see a linearly decreasing leverage function [may not be entirely linear-looking just due to the estimation error]: i.e., as spot prices/strikes increase, we see rapidly decreasing leverage function values - at higher spot prices, vol. will be also higher/both stock and instant. vols will be moving in tandem, thus, the calibrated  leverage function is dropping to low values (no need to 'compensate' / there is lower sensitivity of the spots to the market 'disturbances'/ events at high spot values in that case).\n"
   ]
  },
  {
   "cell_type": "code",
   "execution_count": 92,
   "metadata": {
    "collapsed": false
   },
   "outputs": [
    {
     "data": {
      "text/plain": [
       "<matplotlib.legend.Legend at 0x12cbb2e50>"
      ]
     },
     "execution_count": 92,
     "metadata": {},
     "output_type": "execute_result"
    },
    {
     "data": {
      "image/png": "[encoded data removed]",
      "text/plain": [
       "<matplotlib.figure.Figure at 0x12cbb2a90>"
      ]
     },
     "metadata": {},
     "output_type": "display_data"
    }
   ],
   "source": [
    "# BULLET #2 continued\n",
    "\n",
    "# Pure SVM, lev=1:\n",
    "\n",
    "corrS=-1.0\n",
    "#fig=0\n",
    "VoV=0.5\n",
    "\n",
    "N1=10000\n",
    "\n",
    "K_start=60.0\n",
    "K_end=180.0\n",
    "K_increment=10.0\n",
    "\n",
    "#fig = plt.figure()\n",
    "#ax = plt.subplot(111)\n",
    "\n",
    "def vol_smile3(K_start, K_end, K_increment, corr, VoV, N2):\n",
    "    strikes_=[]\n",
    "    volsSVM_=[]\n",
    "    K0=K_start\n",
    "    while K0<=K_end:\n",
    "        #generate pure SVM call prices:\n",
    "        strikes_.append(K0)\n",
    "        call_SVM = call_pure_SVM(K0, S0, a0, VoV, corr, T, N2, timesteps)\n",
    "    \n",
    "        impV= blackscholes_impv_scalar(K0, T, S0, call_SVM, r=0, q=0, callput='call', tol=1e-6, maxiter=500)\n",
    "        volsSVM_.append(impV)\n",
    "    \n",
    "        K0=K0+K_increment\n",
    "        \n",
    "    return strikes_, volsSVM_\n",
    "\n",
    "\n",
    "while corrS<=1.0:\n",
    "    pureSC, pureVolC = vol_smile3(K_start, K_end, K_increment, corrS, VoV, N1)\n",
    "    #plt.figure(fig)\n",
    "    #plt.figure(figsize=(3,2))\n",
    "    plt.plot(pureSC, pureVolC, label='Corr. = %r' % corrS)\n",
    "\n",
    "    #fig=fig+1\n",
    "    corrS=corrS+0.5\n",
    "\n",
    "plt.xlabel('Strike')\n",
    "plt.ylabel('Imp. Vol. - Pure SVM')\n",
    "plt.legend(loc='best')\n"
   ]
  },
  {
   "cell_type": "markdown",
   "metadata": {},
   "source": [
    "** Note re: pure SVM vol smile chart above:**\n",
    "\n",
    "We see the existence of volatility smiles at all correlation levels; however the volatility smile is most pronounced at higher (either negative or positive) correlations. Moreover, it appears that volatility smile is downward sloping with strike increase at negative correlation levels, and generally upward sloping at the positive correlation levels.\n",
    "This makes sense: at positive correlations between stock and vol process, the implied vol tends to be high in case of out of money options/calls (higher uncertainty 'exacerbated' by the positive correlation between two processes) - and vice versa for sizable negative correlation between the stock and vol processes (in that latter case, stock and vol processes tend to move in opposite directions over time / 'counterbalancing' (and in a way 'diversifying') each other, which has some dampening effect on the implied volatility."
   ]
  },
  {
   "cell_type": "markdown",
   "metadata": {},
   "source": [
    "## Bullet #3  [forward-starting call spread]##\n"
   ]
  },
  {
   "cell_type": "code",
   "execution_count": 93,
   "metadata": {
    "collapsed": true
   },
   "outputs": [],
   "source": [
    "# BULLET #3 - FORWARD-STARTING CALL SPREAD\n",
    "\n",
    "\n",
    "T1=1.0-1.0/12.0\n",
    "\n",
    "T2=T\n",
    "K1=0.95\n",
    "K2=1.05\n",
    "\n",
    "VoV=0.5\n",
    "corr=-0.5\n",
    "\n",
    "volBS=0.3\n",
    "\n"
   ]
  },
  {
   "cell_type": "code",
   "execution_count": 94,
   "metadata": {
    "collapsed": false
   },
   "outputs": [],
   "source": [
    "# THIS IS A VERY ROUGH Approx. Adjusted BS Option PRICING FORMULA -NOT ACTUALLY USED/ JUST FOR CHECKING PURPOSES/\n",
    "# SEE M-C SIMULATION BELOW for the ACTUAL ANSWER / I.E., HOW TO GET B-S PRICE WITH CONSTANT VOL=0.3\n",
    "\n",
    "# modified B-S function to evaluate ratios of spots at T\n",
    "\n",
    "def blackscholes_price_ratio(K, T1, T2, S0, volBS, r=0, q=0, callput='call'):\n",
    "    F1 = S0*np.exp((r-q)*T1)\n",
    "    F2 = S0*np.exp((r-q)*T2)\n",
    "    \n",
    "    w1 = volBS**2*T1\n",
    "    w2 = volBS**2*T2\n",
    "    \n",
    "    F=F2/F1\n",
    "    \n",
    "    d1 = (np.log(F/K)+0.5*w2)/np.sqrt(w2)\n",
    "    d2 = d1 - np.sqrt(w2)\n",
    "    \n",
    "    callput = callput.lower()\n",
    "    if callput == 'call':\n",
    "        opttype = 1\n",
    "    elif callput == 'put':\n",
    "        opttype = -1\n",
    "    else:\n",
    "        raise ValueError('The value of callput must be either \"call\" or \"put\".')\n",
    "    price = (opttype*F*norm.cdf(opttype*d1)-opttype*K*norm.cdf(opttype*(d2)))*np.exp(-r*T2)\n",
    "    return price\n",
    "\n",
    "# NOT USED - FOR CHECKING /TESTING PURPOSES\n",
    "# ROUGH ESTIMATE USIGN APPROX MODIFICATION OF B-S OPTION PRICING FORMULA\n",
    "\n",
    "# Est. Black-Scholes spread price:\n",
    "\n",
    "#rough_BSlong=blackscholes_price_ratio(K1, T1, T2, S0, volBS, r=0, q=0, callput='call')\n",
    "#rough_BSshort=blackscholes_price_ratio(K2, T1, T2, S0, volBS, r=0, q=0, callput='call')\n",
    "#roughBS=rough_BSlong-rough_BSshort\n",
    "#print roughBS"
   ]
  },
  {
   "cell_type": "code",
   "execution_count": 95,
   "metadata": {
    "collapsed": false
   },
   "outputs": [],
   "source": [
    "# continued bullet 3:\n",
    "\n",
    "# Black-Scholes-type stock path generator (used as the foundation for Bullet 3 below):\n",
    "\n",
    "def blackscholes_mc(S0=100, vol=0.2, r=0, q=0, timesteps=np.linspace(0, 1, 13), npaths=10):\n",
    "    \"\"\"Generate Monte-Carlo paths in Black-Scholes model.\n",
    "\n",
    "    Parameters\n",
    "    ----------\n",
    "    S: scalar\n",
    "        The spot level of the underlying security\n",
    "    vol: scalar\n",
    "        Volatility\n",
    "    r: scalar\n",
    "        Interest rate\n",
    "    q: scalar\n",
    "        Dividend yield\n",
    "    timesteps: array_like\n",
    "        The time steps of the simualtion\n",
    "    npaths: int\n",
    "        the number of paths to simulate\n",
    "\n",
    "    Returns\n",
    "    -------\n",
    "    paths: ndarray\n",
    "        The Monte-Carlo paths.\n",
    "    \"\"\"\n",
    "    nsteps = len(timesteps) - 1\n",
    "    ts = np.asfarray(timesteps)[:, np.newaxis]\n",
    "    W = np.cumsum(np.vstack((np.zeros((1, npaths), dtype=np.float),\n",
    "                             np.random.randn(nsteps, npaths) * np.sqrt(np.diff(ts, axis=0)))),\n",
    "                  axis=0)\n",
    "    paths = np.exp(-0.5*vol**2*ts + vol*W)*S0*np.exp((r-q)*ts)\n",
    "    return paths\n"
   ]
  },
  {
   "cell_type": "code",
   "execution_count": 96,
   "metadata": {
    "collapsed": false
   },
   "outputs": [
    {
     "name": "stdout",
     "output_type": "stream",
     "text": [
      "0.0486961325117\n"
     ]
    }
   ],
   "source": [
    "# continued BULLET #3: PRICE THE SPREAD USING B-S PRICING VIA MONTE CARLO, CONSTANT VOL=30%\n",
    "\n",
    "# generate stock paths from time 0 to final maturity of 1 year, with 1 month increments:\n",
    "\n",
    "N2=100000\n",
    "ts = np.linspace(0, T2, int(np.round(T2*12))+1)\n",
    "\n",
    "def call_ratio_BS(K1, K2, S0, volBS, N2, timesteps=ts): \n",
    "    paths = blackscholes_mc(S0=S0, vol=volBS, r=0, q=0, timesteps=ts, npaths=N2)\n",
    "\n",
    "    ST2=paths[-1]\n",
    "    ST1=paths[-2]\n",
    "\n",
    "    # price the call spread:\n",
    "\n",
    "    callBS_long=np.mean(np.maximum(ST2/ST1 - K1, 0))\n",
    "    callBS_short=np.mean(np.maximum(ST2/ST1 - K2, 0))\n",
    "\n",
    "    callBS_spread=callBS_long - callBS_short\n",
    "    \n",
    "    return callBS_spread\n",
    "\n",
    "print call_ratio_BS(K1, K2, S0, volBS, N2, timesteps=ts)\n"
   ]
  },
  {
   "cell_type": "code",
   "execution_count": 100,
   "metadata": {
    "collapsed": true
   },
   "outputs": [],
   "source": [
    "# Pricing the call spread using the PURE SVM MODEL:\n",
    "\n",
    "N2=100000\n",
    "timesteps=100\n",
    "\n",
    "def call_ratio_SVM(strike, S0, a0, corr, VoV, T1, T2, sprices, N2, timesteps):\n",
    "    \n",
    "    sPrev=np.full(N2, S0, dtype=np.float)\n",
    "    aPrev=np.full(N2, a0, dtype=np.float)\n",
    "\n",
    "    k=1\n",
    "\n",
    "    dt=T/timesteps\n",
    "    \n",
    "    while k<=(timesteps-1):\n",
    "        \n",
    "        eS = rnd.normal(0.0,1.0,size=N2)\n",
    "        eA = rnd.normal(0.0,1.0,size=N2)\n",
    "    \n",
    "        # generates N2 samples of stock values and vol process values:\n",
    "        \n",
    "        lev=1.0\n",
    "        \n",
    "        #log-Euler:\n",
    "        simA=aPrev*np.exp(-0.5*VoV*VoV*dt + np.sqrt(dt)*VoV*eA)\n",
    "        simS=sPrev*np.exp(-0.5*aPrev*aPrev*lev*lev*dt + np.sqrt(dt)*lev*aPrev*(corr*eA + np.sqrt(1-corr*corr)*eS))\n",
    "        \n",
    "        sPrev=simS\n",
    "        aPrev=simA\n",
    "        \n",
    "        k=k+1\n",
    "        \n",
    "    # stock prices at T1:    \n",
    "    simS_T1=simS\n",
    "   \n",
    "    # final step to generate stock prices at T2:\n",
    "    eS = rnd.normal(0.0,1.0,size=N2)\n",
    "    eA = rnd.normal(0.0,1.0,size=N2)\n",
    "        \n",
    "    \n",
    "    #log-Euler:\n",
    "    simA=aPrev*np.exp(-0.5*VoV*VoV*dt + np.sqrt(dt)*VoV*eA)\n",
    "    simS=simS_T1*np.exp(-0.5*aPrev*aPrev*lev*lev*dt + np.sqrt(dt)*lev*aPrev*(corr*eA + np.sqrt(1-corr*corr)*eS))\n",
    "        \n",
    "    # stock price at T2:\n",
    "    simS_T2=simS\n",
    "    \n",
    "    call_i=np.maximum(simS_T2/simS_T1-strike, 0)\n",
    "    \n",
    "    return np.mean(call_i)\n"
   ]
  },
  {
   "cell_type": "code",
   "execution_count": 101,
   "metadata": {
    "collapsed": false
   },
   "outputs": [
    {
     "name": "stdout",
     "output_type": "stream",
     "text": [
      "0.049731223146\n"
     ]
    }
   ],
   "source": [
    "# price the call spread using a pure SVM:\n",
    "\n",
    "callSVM_long=call_ratio_SVM(K1, S0, a0, corr, VoV, T1, T2, sprices, N2, timesteps)\n",
    "callSVM_short=call_ratio_SVM(K2, S0, a0, corr, VoV, T1, T2, sprices, N2, timesteps)\n",
    "\n",
    "callSVM_spread=callSVM_long - callSVM_short\n",
    "\n",
    "print callSVM_spread"
   ]
  },
  {
   "cell_type": "code",
   "execution_count": 97,
   "metadata": {
    "collapsed": true
   },
   "outputs": [],
   "source": [
    "# Bullet #3 continued\n",
    "\n",
    "# Pricing the call spread using the CALIBRATED LEVERAGE LSVM MODEL:\n",
    "\n",
    "N2=100000\n",
    "timesteps=100\n",
    "\n",
    "def call_ratio_LVM(strike, S0, a0, corr, VoV, T1, T2, leverage, sprices, N2, timesteps):\n",
    "    \n",
    "    sPrev=np.full(N2, S0, dtype=np.float)\n",
    "    aPrev=np.full(N2, a0, dtype=np.float)\n",
    "\n",
    "    k=1\n",
    "\n",
    "    dt=T/timesteps\n",
    "    \n",
    "    while k<=(timesteps-1):\n",
    "        \n",
    "        eS = rnd.normal(0.0,1.0,size=N2)\n",
    "        eA = rnd.normal(0.0,1.0,size=N2)\n",
    "    \n",
    "        # generates N2 samples of stock values and vol process values:\n",
    "        # uses prior leverage function values (generated by leverage function) - lookup by stock price \n",
    "        # uses linear interp. to speed this up \n",
    "        \n",
    "        lev=np.interp(sPrev,sprices[k-1],leverage[k-1])\n",
    "        \n",
    "        #log-Euler:\n",
    "        simA=aPrev*np.exp(-0.5*VoV*VoV*dt + np.sqrt(dt)*VoV*eA)\n",
    "        simS=sPrev*np.exp(-0.5*aPrev*aPrev*lev*lev*dt + np.sqrt(dt)*lev*aPrev*(corr*eA + np.sqrt(1-corr*corr)*eS))\n",
    "        \n",
    "        sPrev=simS\n",
    "        aPrev=simA\n",
    "        \n",
    "        k=k+1\n",
    "        \n",
    "    # stock prices at T1:    \n",
    "    simS_T1=simS\n",
    "   \n",
    "    # final step to generate stock prices at T2:\n",
    "    eS = rnd.normal(0.0,1.0,size=N2)\n",
    "    eA = rnd.normal(0.0,1.0,size=N2)\n",
    "        \n",
    "    lev=np.interp(sPrev,sprices[k-1],leverage[k-1])\n",
    "    \n",
    "    #log-Euler:\n",
    "    simA=aPrev*np.exp(-0.5*VoV*VoV*dt + np.sqrt(dt)*VoV*eA)\n",
    "    simS=simS_T1*np.exp(-0.5*aPrev*aPrev*lev*lev*dt + np.sqrt(dt)*lev*aPrev*(corr*eA + np.sqrt(1-corr*corr)*eS))\n",
    "        \n",
    "    # stock price at T2:\n",
    "    simS_T2=simS\n",
    "    \n",
    "    call_i=np.maximum(simS_T2/simS_T1-strike, 0)\n",
    "    \n",
    "    return np.mean(call_i)\n"
   ]
  },
  {
   "cell_type": "code",
   "execution_count": 98,
   "metadata": {
    "collapsed": false
   },
   "outputs": [
    {
     "name": "stdout",
     "output_type": "stream",
     "text": [
      "0.0500026832081\n"
     ]
    }
   ],
   "source": [
    "# price the call spread using LVM:\n",
    "\n",
    "callLVM_long=call_ratio_LVM(K1, S0, a0, corr, VoV, T1, T2, leverage, sprices, N2, timesteps)\n",
    "callLVM_short=call_ratio_LVM(K2, S0, a0, corr, VoV, T1, T2, leverage, sprices, N2, timesteps)\n",
    "\n",
    "callLVM_spread=callLVM_long - callLVM_short\n",
    "\n",
    "print callLVM_spread\n"
   ]
  },
  {
   "cell_type": "code",
   "execution_count": 105,
   "metadata": {
    "collapsed": false
   },
   "outputs": [
    {
     "name": "stdout",
     "output_type": "stream",
     "text": [
      "BS estimation variance:\n",
      "1.13515827006e-09\n",
      "\n",
      "Pure SVM estimation variance:\n",
      "1.07751885818e-09\n",
      "\n",
      "LSVM estimation variance:\n",
      "6.84560071368e-10\n",
      "\n",
      "Compare values between BS, pure SVM and LSVM call spread estimation:\n"
     ]
    },
    {
     "data": {
      "text/plain": [
       "<matplotlib.text.Text at 0x109786ed0>"
      ]
     },
     "execution_count": 105,
     "metadata": {},
     "output_type": "execute_result"
    },
    {
     "data": {
      "image/png": "[encoded data removed]",
      "text/plain": [
       "<matplotlib.figure.Figure at 0x1090503d0>"
      ]
     },
     "metadata": {},
     "output_type": "display_data"
    }
   ],
   "source": [
    "# Mean batched estimator: compare the BS prices with pure SVM and LSVM prices based on 10 indep. samples:\n",
    "\n",
    "N2=100000\n",
    "\n",
    "sample=1\n",
    "nbatch=10\n",
    "\n",
    "BS_values=[]\n",
    "SVM_values=[]\n",
    "LVM_values=[]\n",
    "\n",
    "samples=[]\n",
    "\n",
    "while sample<=nbatch:\n",
    "    \n",
    "    bs_temp=call_ratio_BS(K1, K2, S0, volBS, N2, timesteps=ts)\n",
    "    \n",
    "    BS_values.append(bs_temp)\n",
    "    \n",
    "    svm_temp=call_ratio_SVM(K1, S0, a0, corr, VoV, T1, T2, sprices, N2, timesteps) - call_ratio_SVM(K2, S0, a0, corr, VoV, T1, T2, sprices, N2, timesteps)    \n",
    "    SVM_values.append(lvm_temp)\n",
    "    \n",
    "    lvm_temp=call_ratio_LVM(K1, S0, a0, corr, VoV, T1, T2, leverage, sprices, N2, timesteps) - call_ratio_LVM(K2, S0, a0, corr, VoV, T1, T2, leverage, sprices, N2, timesteps)\n",
    "    LVM_values.append(lvm_temp)\n",
    "    \n",
    "    samples.append(sample)\n",
    "    sample=sample+1\n",
    "\n",
    "bs=np.asarray(BS_values)\n",
    "svm=np.asarray(SVM_values)\n",
    "lvm=np.asarray(LVM_values)\n",
    "\n",
    "print(\"BS estimation variance:\")\n",
    "print np.var(bs)/nbatch\n",
    "\n",
    "print\n",
    "print(\"Pure SVM estimation variance:\")\n",
    "print np.var(svm)/nbatch\n",
    "\n",
    "print\n",
    "print(\"LSVM estimation variance:\")\n",
    "print np.var(lvm)/nbatch\n",
    "\n",
    "print \n",
    "print \"Compare values between BS, pure SVM and LSVM call spread estimation:\"\n",
    "\n",
    "plt.plot(samples, bs, '-b', label='B-S')\n",
    "plt.plot(samples, svm, '-g', label='Pure SVM')\n",
    "plt.plot(samples, lvm, '-r', label='LSVM')\n",
    "\n",
    "plt.legend(loc='best')\n",
    "plt.xlabel('sample number')\n",
    "plt.ylabel('Call Spread Value')"
   ]
  },
  {
   "cell_type": "markdown",
   "metadata": {},
   "source": [
    "** Comparison to Model Benchmarks: BS Model**\n",
    "\n",
    "Call spread prices are fairly similar [same order of magnitude] between B-S model with constant volBS=30% and calibated LSVM model. \n",
    "However, LSVM model tends to produce a somewhat higher call spread price (and consistently so; see the chart above for the comparison of call spread prices across different indep. samples), implying there is a slight **forward volatility skew** (as LSVM does not assume a constant vol, it allows us to capture this forward skew in volatility unlike a much simpler, constant-vol B-S model).\n"
   ]
  },
  {
   "cell_type": "markdown",
   "metadata": {},
   "source": [
    "** Comparison to Model Benchmarks: a pure SVM and overall conclusion**\n",
    "\n",
    "Call spread prices are fairly similar [same order of magnitude] between a pure SVM model and calibated LSVM model. \n",
    "However, LSVM model results in a more stable estimate (note that the LSVM estimation variance is sizably lower as compared to the pure SVM estimation variance), and a more realistic pattern of the **forward volatility skew** (as LSVM is better suited to capture the actual forward volatility than a simpler (and non-calibrated) pure SVM).\n",
    "\n",
    "Calibrated LSVMs are thus better suited to capture the actual market/dynamics as compared to simpler models such as BS and SVM.\n",
    "\n",
    "Also, unlike simpler \"static\" models such as BS and even 'pure' SVM, these models are more flexible / can be easily modified to price more complex (path-dependent) derivatives i.e., **at varying market conditions**.\n",
    "    "
   ]
  }
 ],
 "metadata": {
  "kernelspec": {
   "display_name": "Python 2",
   "language": "python",
   "name": "python2"
  },
  "language_info": {
   "codemirror_mode": {
    "name": "ipython",
    "version": 2
   },
   "file_extension": ".py",
   "mimetype": "text/x-python",
   "name": "python",
   "nbconvert_exporter": "python",
   "pygments_lexer": "ipython2",
   "version": "2.7.11"
  }
 },
 "nbformat": 4,
 "nbformat_minor": 0
}
